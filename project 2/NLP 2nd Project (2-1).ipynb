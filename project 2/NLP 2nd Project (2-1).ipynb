{
 "cells": [
  {
   "cell_type": "markdown",
   "metadata": {},
   "source": [
    "# NLP scond session of coding\n",
    "by javad pourmostafa (<a href=https://github.com/JoyeBright>his github</a>)"
   ]
  },
  {
   "cell_type": "code",
   "execution_count": 2,
   "metadata": {},
   "outputs": [],
   "source": [
    "import numpy as np #our library in this project is just this"
   ]
  },
  {
   "cell_type": "markdown",
   "metadata": {},
   "source": [
    "making a mini dataset because of **limitations** that we had in our class\n",
    "\n",
    "its a simple NN with one hidden layer(2 nodes)"
   ]
  },
  {
   "cell_type": "code",
   "execution_count": 3,
   "metadata": {},
   "outputs": [],
   "source": [
    "input_data = np.array([5,7,8,1])\n",
    "weights = {'node0':np.array([1,1]),\n",
    "           'node1':np.array([-1,1]),\n",
    "           'output':np.array([2,1])}"
   ]
  },
  {
   "cell_type": "markdown",
   "metadata": {},
   "source": [
    "### activation function"
   ]
  },
  {
   "cell_type": "code",
   "execution_count": 4,
   "metadata": {},
   "outputs": [],
   "source": [
    "def ReLu(x):\n",
    "    out = max(0, x)\n",
    "    return out"
   ]
  },
  {
   "cell_type": "markdown",
   "metadata": {},
   "source": [
    "### prediction model"
   ]
  },
  {
   "cell_type": "markdown",
   "metadata": {},
   "source": [
    "just to make our network more visual ::"
   ]
  },
  {
   "cell_type": "code",
   "execution_count": 8,
   "metadata": {},
   "outputs": [],
   "source": [
    "def predict_with_NN(input_Data_Row, weights):\n",
    "    print(\"\\n First element of input data : %s\" % input_data)\n",
    "    print(\"\\n Weight for node0 in hidden layer : %s\" % weights['node0'])\n",
    "    print(\"\\n Weight for node1 in hidden layer : %s\" % weights['node1'])\n",
    "    print(\"\\n Weight for node in output layer : %s\" % weights['output'])\n",
    "    \n",
    "    ###############################################################################\n",
    "    #calculations for node 0                                                      #\n",
    "    ###############################################################################\n",
    "    \n",
    "    node_o_input=(input_Data_Row * weights['node0']).sum()\n",
    "    print(\"\\n node0 in hidden layer before activation function: %d\" % node_o_input)\n",
    "    node_o_output = ReLu(node_o_input)\n",
    "    print(\"\\n node0 in hidden layer after activation function: %d\" % node_o_output)\n",
    "    \n",
    "    ###############################################################################\n",
    "    #calculations for node 1                                                      #\n",
    "    ###############################################################################\n",
    "    \n",
    "    node_I_input=(input_Data_Row * weights['node1']).sum()\n",
    "    print(\"\\n node1 in hidden layer before activation function: %d\" % node_I_input)\n",
    "    node_I_output = ReLu(node_I_input)\n",
    "    print(\"\\n node1 in hidden layer after activation function: %d\" % node_I_output)\n",
    "    \n",
    "    ###############################################################################\n",
    "    #calculation for node 0 and node 1 into an array : hidden_layer_output        #\n",
    "    ###############################################################################\n",
    "    \n",
    "    hidden_layer_output = np.array([node_o_output, node_I_output])\n",
    "    print(\"\\n Hidden layer: %s\" % hidden_layer_output)\n",
    "    \n",
    "    ###############################################################################\n",
    "    #calculate model output                                                       #\n",
    "    ###############################################################################\n",
    "    \n",
    "    input_to_final_layer = (hidden_layer_output * weights[\"output\"]).sum()\n",
    "    print(\"\\n Output layer before activation function : %d\" % input_to_final_layer)\n",
    "    model_output = ReLu(input_to_final_layer)\n",
    "    print(\"\\n Output layer after activation function : %d\" % model_output)\n",
    "    \n",
    "    return model_output"
   ]
  },
  {
   "cell_type": "markdown",
   "metadata": {},
   "source": [
    "now showing results of our NN in every stage"
   ]
  },
  {
   "cell_type": "code",
   "execution_count": 15,
   "metadata": {},
   "outputs": [
    {
     "name": "stdout",
     "output_type": "stream",
     "text": [
      "\n",
      " First element of input data : [5 7 8 1]\n",
      "\n",
      " Weight for node0 in hidden layer : [1 1]\n",
      "\n",
      " Weight for node1 in hidden layer : [-1  1]\n",
      "\n",
      " Weight for node in output layer : [2 1]\n",
      "\n",
      " node0 in hidden layer before activation function: 10\n",
      "\n",
      " node0 in hidden layer after activation function: 10\n",
      "\n",
      " node1 in hidden layer before activation function: 0\n",
      "\n",
      " node1 in hidden layer after activation function: 0\n",
      "\n",
      " Hidden layer: [10  0]\n",
      "\n",
      " Output layer before activation function : 20\n",
      "\n",
      " Output layer after activation function : 20\n",
      "\n",
      " First element of input data : [5 7 8 1]\n",
      "\n",
      " Weight for node0 in hidden layer : [1 1]\n",
      "\n",
      " Weight for node1 in hidden layer : [-1  1]\n",
      "\n",
      " Weight for node in output layer : [2 1]\n",
      "\n",
      " node0 in hidden layer before activation function: 14\n",
      "\n",
      " node0 in hidden layer after activation function: 14\n",
      "\n",
      " node1 in hidden layer before activation function: 0\n",
      "\n",
      " node1 in hidden layer after activation function: 0\n",
      "\n",
      " Hidden layer: [14  0]\n",
      "\n",
      " Output layer before activation function : 28\n",
      "\n",
      " Output layer after activation function : 28\n",
      "\n",
      " First element of input data : [5 7 8 1]\n",
      "\n",
      " Weight for node0 in hidden layer : [1 1]\n",
      "\n",
      " Weight for node1 in hidden layer : [-1  1]\n",
      "\n",
      " Weight for node in output layer : [2 1]\n",
      "\n",
      " node0 in hidden layer before activation function: 16\n",
      "\n",
      " node0 in hidden layer after activation function: 16\n",
      "\n",
      " node1 in hidden layer before activation function: 0\n",
      "\n",
      " node1 in hidden layer after activation function: 0\n",
      "\n",
      " Hidden layer: [16  0]\n",
      "\n",
      " Output layer before activation function : 32\n",
      "\n",
      " Output layer after activation function : 32\n",
      "\n",
      " First element of input data : [5 7 8 1]\n",
      "\n",
      " Weight for node0 in hidden layer : [1 1]\n",
      "\n",
      " Weight for node1 in hidden layer : [-1  1]\n",
      "\n",
      " Weight for node in output layer : [2 1]\n",
      "\n",
      " node0 in hidden layer before activation function: 2\n",
      "\n",
      " node0 in hidden layer after activation function: 2\n",
      "\n",
      " node1 in hidden layer before activation function: 0\n",
      "\n",
      " node1 in hidden layer after activation function: 0\n",
      "\n",
      " Hidden layer: [2 0]\n",
      "\n",
      " Output layer before activation function : 4\n",
      "\n",
      " Output layer after activation function : 4\n",
      "\n",
      " result array:  [20, 28, 32, 4] \n",
      "\n"
     ]
    }
   ],
   "source": [
    "results = []\n",
    "for input_data_r in input_data:\n",
    "    results.append(predict_with_NN(input_data_r, weights))\n",
    "    \n",
    "print(\"\\n result array: \",results)"
   ]
  }
 ],
 "metadata": {
  "kernelspec": {
   "display_name": "Python 3",
   "language": "python",
   "name": "python3"
  },
  "language_info": {
   "codemirror_mode": {
    "name": "ipython",
    "version": 3
   },
   "file_extension": ".py",
   "mimetype": "text/x-python",
   "name": "python",
   "nbconvert_exporter": "python",
   "pygments_lexer": "ipython3",
   "version": "3.7.0"
  }
 },
 "nbformat": 4,
 "nbformat_minor": 2
}
