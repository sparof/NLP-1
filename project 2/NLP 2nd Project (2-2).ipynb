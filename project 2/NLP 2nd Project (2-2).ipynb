{
 "cells": [
  {
   "cell_type": "markdown",
   "metadata": {},
   "source": [
    "# NLP second session of coding\n",
    "by javad pourmostafa (<a href=https://github.com/JoyeBright>his github</a>)"
   ]
  },
  {
   "cell_type": "code",
   "execution_count": 1,
   "metadata": {},
   "outputs": [],
   "source": [
    "import numpy as np #our library in this project is just this"
   ]
  },
  {
   "cell_type": "markdown",
   "metadata": {},
   "source": [
    "making a mini dataset because of **limitations** that we had in our class"
   ]
  },
  {
   "cell_type": "code",
   "execution_count": 4,
   "metadata": {},
   "outputs": [],
   "source": [
    "input_data = np.array([1,2,3])\n",
    "weights = np.array([0,2,1])"
   ]
  },
  {
   "cell_type": "markdown",
   "metadata": {},
   "source": [
    "now we discuss a target(actual) and a learning rate for deciding our error and make our model better"
   ]
  },
  {
   "cell_type": "code",
   "execution_count": 20,
   "metadata": {},
   "outputs": [],
   "source": [
    "target = 0\n",
    "learning_rate = 0.01"
   ]
  },
  {
   "cell_type": "markdown",
   "metadata": {},
   "source": [
    "now we want to see the prediction of our model"
   ]
  },
  {
   "cell_type": "code",
   "execution_count": 21,
   "metadata": {},
   "outputs": [
    {
     "name": "stdout",
     "output_type": "stream",
     "text": [
      "7\n"
     ]
    }
   ],
   "source": [
    "predict = (input_data * weights).sum()\n",
    "print(predict)"
   ]
  },
  {
   "cell_type": "markdown",
   "metadata": {},
   "source": [
    "### error"
   ]
  },
  {
   "cell_type": "code",
   "execution_count": 22,
   "metadata": {},
   "outputs": [
    {
     "name": "stdout",
     "output_type": "stream",
     "text": [
      "7\n"
     ]
    }
   ],
   "source": [
    "error = predict - target\n",
    "print(error)"
   ]
  },
  {
   "cell_type": "markdown",
   "metadata": {},
   "source": [
    "### derivation of error\n",
    "but this is not exact slope actuly its slope * input data"
   ]
  },
  {
   "cell_type": "code",
   "execution_count": 23,
   "metadata": {},
   "outputs": [
    {
     "name": "stdout",
     "output_type": "stream",
     "text": [
      "[14 28 42]\n"
     ]
    }
   ],
   "source": [
    "slope = 2 * error * input_data\n",
    "print(slope)"
   ]
  },
  {
   "cell_type": "markdown",
   "metadata": {},
   "source": [
    "now we can use slope and give new weights which can make our model better"
   ]
  },
  {
   "cell_type": "code",
   "execution_count": 24,
   "metadata": {},
   "outputs": [
    {
     "name": "stdout",
     "output_type": "stream",
     "text": [
      "[-0.14  1.72  0.58]\n"
     ]
    }
   ],
   "source": [
    "updatedWeights = weights - (slope * learning_rate)\n",
    "print(updatedWeights)"
   ]
  },
  {
   "cell_type": "markdown",
   "metadata": {},
   "source": [
    "now we can have new predict and error base on new weights"
   ]
  },
  {
   "cell_type": "code",
   "execution_count": 25,
   "metadata": {},
   "outputs": [
    {
     "name": "stdout",
     "output_type": "stream",
     "text": [
      "The error without applying gradient descent 7.000000\n",
      "The error with applying gradient descent 5.040000\n"
     ]
    }
   ],
   "source": [
    "updatedPredict = (input_data * updatedWeights).sum()\n",
    "updated_error = updatedPredict - target\n",
    "\n",
    "print(\"The error without applying gradient descent %f\" % error)\n",
    "print(\"The error with applying gradient descent %f\" % updated_error)"
   ]
  },
  {
   "cell_type": "markdown",
   "metadata": {},
   "source": [
    "an intresting fact about it is when we dont have learning rate"
   ]
  },
  {
   "cell_type": "code",
   "execution_count": 29,
   "metadata": {},
   "outputs": [
    {
     "name": "stdout",
     "output_type": "stream",
     "text": [
      "The error with applying gradient descent -189.000000\n"
     ]
    }
   ],
   "source": [
    "learning_rate = 1\n",
    "updatedWeights = weights - (slope * learning_rate)\n",
    "updatedPredict = (input_data * updatedWeights).sum()\n",
    "updated_error = updatedPredict - target\n",
    "\n",
    "print(\"The error with applying gradient descent %f\" % updated_error)"
   ]
  },
  {
   "cell_type": "markdown",
   "metadata": {},
   "source": [
    "5.04 is better than 7 but still isnt that good\n",
    "now we can play with our learning rate to make our error close to 0"
   ]
  },
  {
   "cell_type": "code",
   "execution_count": 34,
   "metadata": {},
   "outputs": [
    {
     "name": "stdout",
     "output_type": "stream",
     "text": [
      "The error with applying gradient descent 5.040000\n",
      " learning rate: 0.011000\n",
      "The error with applying gradient descent 4.844000\n",
      " learning rate: 0.012000\n",
      "The error with applying gradient descent 4.648000\n",
      " learning rate: 0.013000\n",
      "The error with applying gradient descent 4.452000\n",
      " learning rate: 0.014000\n",
      "The error with applying gradient descent 4.256000\n",
      " learning rate: 0.015000\n",
      "The error with applying gradient descent 4.060000\n",
      " learning rate: 0.016000\n",
      "The error with applying gradient descent 3.864000\n",
      " learning rate: 0.017000\n",
      "The error with applying gradient descent 3.668000\n",
      " learning rate: 0.018000\n",
      "The error with applying gradient descent 3.472000\n",
      " learning rate: 0.019000\n",
      "The error with applying gradient descent 3.276000\n",
      " learning rate: 0.020000\n",
      "The error with applying gradient descent 3.080000\n",
      " learning rate: 0.021000\n",
      "The error with applying gradient descent 2.884000\n",
      " learning rate: 0.022000\n",
      "The error with applying gradient descent 2.688000\n",
      " learning rate: 0.023000\n",
      "The error with applying gradient descent 2.492000\n",
      " learning rate: 0.024000\n",
      "The error with applying gradient descent 2.296000\n",
      " learning rate: 0.025000\n",
      "The error with applying gradient descent 2.100000\n",
      " learning rate: 0.026000\n",
      "The error with applying gradient descent 1.904000\n",
      " learning rate: 0.027000\n",
      "The error with applying gradient descent 1.708000\n",
      " learning rate: 0.028000\n",
      "The error with applying gradient descent 1.512000\n",
      " learning rate: 0.029000\n",
      "The error with applying gradient descent 1.316000\n",
      " learning rate: 0.030000\n",
      "The error with applying gradient descent 1.120000\n",
      " learning rate: 0.031000\n",
      "The error with applying gradient descent 0.924000\n",
      " learning rate: 0.032000\n",
      "The error with applying gradient descent 0.728000\n",
      " learning rate: 0.033000\n",
      "The error with applying gradient descent 0.532000\n",
      " learning rate: 0.034000\n",
      "The error with applying gradient descent 0.336000\n",
      " learning rate: 0.035000\n",
      "The error with applying gradient descent 0.140000\n",
      " learning rate: 0.036000\n",
      "The error with applying gradient descent -0.056000\n",
      " learning rate: 0.037000\n",
      "The error with applying gradient descent -0.252000\n",
      " learning rate: 0.038000\n",
      "The error with applying gradient descent -0.448000\n",
      " learning rate: 0.039000\n",
      "The error with applying gradient descent -0.644000\n",
      " learning rate: 0.040000\n"
     ]
    }
   ],
   "source": [
    "x=0.01\n",
    "error=5.04\n",
    "counter=0\n",
    "for i in range(0,30):\n",
    "    learning_rate = x\n",
    "    updatedWeights = weights - (slope * learning_rate)\n",
    "    updatedPredict = (input_data * updatedWeights).sum()\n",
    "    if error >= (updatedPredict - target):\n",
    "        error = updatedPredict - target\n",
    "        x+=((counter+1)/1000)\n",
    "    else:\n",
    "        x+=((counter+1)/1000)\n",
    "\n",
    "    print(\"The error with applying gradient descent %f\" % error)\n",
    "    print(\" learning rate: %f\" % x)"
   ]
  },
  {
   "cell_type": "markdown",
   "metadata": {},
   "source": [
    "now we find the place that our sign changes and we can do so more"
   ]
  }
 ],
 "metadata": {
  "kernelspec": {
   "display_name": "Python 3",
   "language": "python",
   "name": "python3"
  },
  "language_info": {
   "codemirror_mode": {
    "name": "ipython",
    "version": 3
   },
   "file_extension": ".py",
   "mimetype": "text/x-python",
   "name": "python",
   "nbconvert_exporter": "python",
   "pygments_lexer": "ipython3",
   "version": "3.7.0"
  }
 },
 "nbformat": 4,
 "nbformat_minor": 2
}
