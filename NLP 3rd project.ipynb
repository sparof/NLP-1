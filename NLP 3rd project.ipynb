{
 "cells": [
  {
   "cell_type": "markdown",
   "metadata": {},
   "source": [
    "# NLP third session of coding\n",
    "by javad pourmostafa (<a href=https://github.com/JoyeBright>his github</a>)"
   ]
  },
  {
   "cell_type": "markdown",
   "metadata": {},
   "source": [
    "we can use **math scikit learn** library too it will make our learning part easier"
   ]
  },
  {
   "cell_type": "code",
   "execution_count": 41,
   "metadata": {},
   "outputs": [],
   "source": [
    "import numpy as np\n",
    "import pandas as pd\n",
    "import math\n",
    "pd.set_option(\"display.width\", 1000)\n",
    "pd.set_option(\"display.max_rows\", 1000)\n",
    "pd.set_option(\"display.max_columns\", 1000)"
   ]
  },
  {
   "cell_type": "markdown",
   "metadata": {},
   "source": [
    "##### 1-BOW of corpus\n",
    "making our dataset named corpus"
   ]
  },
  {
   "cell_type": "code",
   "execution_count": 42,
   "metadata": {},
   "outputs": [],
   "source": [
    "corpus = {1:\"i am a student of computer engineering at the university of guilan\",\n",
    "          2:\"i am studying natural language processing right now\"}"
   ]
  },
  {
   "cell_type": "markdown",
   "metadata": {},
   "source": [
    "## processing part"
   ]
  },
  {
   "cell_type": "code",
   "execution_count": 43,
   "metadata": {},
   "outputs": [],
   "source": [
    "bow = []\n",
    "for row in corpus:\n",
    "    #print(corpus[row].split(' ')) \n",
    "    bow.append(corpus[row].split(' ')) #if we put nothing as split entry it will split by widespace\n",
    "#print(bow)"
   ]
  },
  {
   "cell_type": "markdown",
   "metadata": {},
   "source": [
    "##### 2-unique words in BOW"
   ]
  },
  {
   "cell_type": "code",
   "execution_count": 44,
   "metadata": {},
   "outputs": [
    {
     "name": "stdout",
     "output_type": "stream",
     "text": [
      "['a', 'am', 'at', 'computer', 'engineering', 'guilan', 'i', 'language', 'natural', 'now', 'of', 'processing', 'right', 'student', 'studying', 'the', 'university']\n"
     ]
    }
   ],
   "source": [
    "unique_words = set(bow[0]).union(set(bow[1]))\n",
    "unique_words = sorted(unique_words,reverse=False)\n",
    "unique_words"
   ]
  },
  {
   "cell_type": "markdown",
   "metadata": {},
   "source": [
    "##### 3-create Document word matrix"
   ]
  },
  {
   "cell_type": "code",
   "execution_count": 56,
   "metadata": {},
   "outputs": [
    {
     "data": {
      "text/plain": [
       "{'a': 0,\n",
       " 'am': 1,\n",
       " 'at': 0,\n",
       " 'computer': 0,\n",
       " 'engineering': 0,\n",
       " 'guilan': 0,\n",
       " 'i': 1,\n",
       " 'language': 1,\n",
       " 'natural': 1,\n",
       " 'now': 1,\n",
       " 'of': 0,\n",
       " 'processing': 1,\n",
       " 'right': 1,\n",
       " 'student': 0,\n",
       " 'studying': 1,\n",
       " 'the': 0,\n",
       " 'university': 0}"
      ]
     },
     "execution_count": 56,
     "metadata": {},
     "output_type": "execute_result"
    }
   ],
   "source": [
    "for i in unique_words:\n",
    "    doc1 = dict.fromkeys(unique_words, 0)\n",
    "    doc2 = dict.fromkeys(unique_words, 0)\n",
    "    #count accurance in Doc1\n",
    "    \n",
    "    for words in bow[0]:\n",
    "        doc1[words] += 1\n",
    "    for words in bow[1]:\n",
    "        doc2[words] += 1\n",
    "doc1\n",
    "doc2"
   ]
  },
  {
   "cell_type": "markdown",
   "metadata": {},
   "source": [
    "shown in pandas"
   ]
  },
  {
   "cell_type": "code",
   "execution_count": 55,
   "metadata": {},
   "outputs": [
    {
     "data": {
      "text/html": [
       "<div>\n",
       "<style scoped>\n",
       "    .dataframe tbody tr th:only-of-type {\n",
       "        vertical-align: middle;\n",
       "    }\n",
       "\n",
       "    .dataframe tbody tr th {\n",
       "        vertical-align: top;\n",
       "    }\n",
       "\n",
       "    .dataframe thead th {\n",
       "        text-align: right;\n",
       "    }\n",
       "</style>\n",
       "<table border=\"1\" class=\"dataframe\">\n",
       "  <thead>\n",
       "    <tr style=\"text-align: right;\">\n",
       "      <th></th>\n",
       "      <th>a</th>\n",
       "      <th>am</th>\n",
       "      <th>at</th>\n",
       "      <th>computer</th>\n",
       "      <th>engineering</th>\n",
       "      <th>guilan</th>\n",
       "      <th>i</th>\n",
       "      <th>language</th>\n",
       "      <th>natural</th>\n",
       "      <th>now</th>\n",
       "      <th>of</th>\n",
       "      <th>processing</th>\n",
       "      <th>right</th>\n",
       "      <th>student</th>\n",
       "      <th>studying</th>\n",
       "      <th>the</th>\n",
       "      <th>university</th>\n",
       "    </tr>\n",
       "  </thead>\n",
       "  <tbody>\n",
       "    <tr>\n",
       "      <th>0</th>\n",
       "      <td>1</td>\n",
       "      <td>1</td>\n",
       "      <td>1</td>\n",
       "      <td>1</td>\n",
       "      <td>1</td>\n",
       "      <td>1</td>\n",
       "      <td>1</td>\n",
       "      <td>0</td>\n",
       "      <td>0</td>\n",
       "      <td>0</td>\n",
       "      <td>2</td>\n",
       "      <td>0</td>\n",
       "      <td>0</td>\n",
       "      <td>1</td>\n",
       "      <td>0</td>\n",
       "      <td>1</td>\n",
       "      <td>1</td>\n",
       "    </tr>\n",
       "    <tr>\n",
       "      <th>1</th>\n",
       "      <td>0</td>\n",
       "      <td>1</td>\n",
       "      <td>0</td>\n",
       "      <td>0</td>\n",
       "      <td>0</td>\n",
       "      <td>0</td>\n",
       "      <td>1</td>\n",
       "      <td>1</td>\n",
       "      <td>1</td>\n",
       "      <td>1</td>\n",
       "      <td>0</td>\n",
       "      <td>1</td>\n",
       "      <td>1</td>\n",
       "      <td>0</td>\n",
       "      <td>1</td>\n",
       "      <td>0</td>\n",
       "      <td>0</td>\n",
       "    </tr>\n",
       "  </tbody>\n",
       "</table>\n",
       "</div>"
      ],
      "text/plain": [
       "   a  am  at  computer  engineering  guilan  i  language  natural  now  of  processing  right  student  studying  the  university\n",
       "0  1   1   1         1            1       1  1         0        0    0   2           0      0        1         0    1           1\n",
       "1  0   1   0         0            0       0  1         1        1    1   0           1      1        0         1    0           0"
      ]
     },
     "execution_count": 55,
     "metadata": {},
     "output_type": "execute_result"
    }
   ],
   "source": [
    "document_word_matrix = pd.DataFrame([doc1,doc2])\n",
    "document_word_matrix"
   ]
  },
  {
   "cell_type": "markdown",
   "metadata": {},
   "source": [
    "##### 4-tf_computations\n",
    "tf = unique word in Docx / total words in Docx"
   ]
  },
  {
   "cell_type": "code",
   "execution_count": 54,
   "metadata": {},
   "outputs": [
    {
     "data": {
      "text/html": [
       "<div>\n",
       "<style scoped>\n",
       "    .dataframe tbody tr th:only-of-type {\n",
       "        vertical-align: middle;\n",
       "    }\n",
       "\n",
       "    .dataframe tbody tr th {\n",
       "        vertical-align: top;\n",
       "    }\n",
       "\n",
       "    .dataframe thead th {\n",
       "        text-align: right;\n",
       "    }\n",
       "</style>\n",
       "<table border=\"1\" class=\"dataframe\">\n",
       "  <thead>\n",
       "    <tr style=\"text-align: right;\">\n",
       "      <th></th>\n",
       "      <th>a</th>\n",
       "      <th>am</th>\n",
       "      <th>at</th>\n",
       "      <th>computer</th>\n",
       "      <th>engineering</th>\n",
       "      <th>guilan</th>\n",
       "      <th>i</th>\n",
       "      <th>language</th>\n",
       "      <th>natural</th>\n",
       "      <th>now</th>\n",
       "      <th>of</th>\n",
       "      <th>processing</th>\n",
       "      <th>right</th>\n",
       "      <th>student</th>\n",
       "      <th>studying</th>\n",
       "      <th>the</th>\n",
       "      <th>university</th>\n",
       "    </tr>\n",
       "  </thead>\n",
       "  <tbody>\n",
       "    <tr>\n",
       "      <th>0</th>\n",
       "      <td>0.083333</td>\n",
       "      <td>0.083333</td>\n",
       "      <td>0.083333</td>\n",
       "      <td>0.083333</td>\n",
       "      <td>0.083333</td>\n",
       "      <td>0.083333</td>\n",
       "      <td>0.083333</td>\n",
       "      <td>0.000</td>\n",
       "      <td>0.000</td>\n",
       "      <td>0.000</td>\n",
       "      <td>0.166667</td>\n",
       "      <td>0.000</td>\n",
       "      <td>0.000</td>\n",
       "      <td>0.083333</td>\n",
       "      <td>0.000</td>\n",
       "      <td>0.083333</td>\n",
       "      <td>0.083333</td>\n",
       "    </tr>\n",
       "    <tr>\n",
       "      <th>1</th>\n",
       "      <td>0.000000</td>\n",
       "      <td>0.125000</td>\n",
       "      <td>0.000000</td>\n",
       "      <td>0.000000</td>\n",
       "      <td>0.000000</td>\n",
       "      <td>0.000000</td>\n",
       "      <td>0.125000</td>\n",
       "      <td>0.125</td>\n",
       "      <td>0.125</td>\n",
       "      <td>0.125</td>\n",
       "      <td>0.000000</td>\n",
       "      <td>0.125</td>\n",
       "      <td>0.125</td>\n",
       "      <td>0.000000</td>\n",
       "      <td>0.125</td>\n",
       "      <td>0.000000</td>\n",
       "      <td>0.000000</td>\n",
       "    </tr>\n",
       "  </tbody>\n",
       "</table>\n",
       "</div>"
      ],
      "text/plain": [
       "          a        am        at  computer  engineering    guilan         i  language  natural    now        of  processing  right   student  studying       the  university\n",
       "0  0.083333  0.083333  0.083333  0.083333     0.083333  0.083333  0.083333     0.000    0.000  0.000  0.166667       0.000  0.000  0.083333     0.000  0.083333    0.083333\n",
       "1  0.000000  0.125000  0.000000  0.000000     0.000000  0.000000  0.125000     0.125    0.125  0.125  0.000000       0.125  0.125  0.000000     0.125  0.000000    0.000000"
      ]
     },
     "execution_count": 54,
     "metadata": {},
     "output_type": "execute_result"
    }
   ],
   "source": [
    "def tf_computation(document, bag_of_words):\n",
    "    tf_doc = {}\n",
    "    bow_count = len(bag_of_words)\n",
    "    #print(bow_count)\n",
    "    for k,v in document.items():\n",
    "        tf_doc[k] = float(v/bow_count)\n",
    "    return tf_doc\n",
    "#giving value to words which repeats\n",
    "tf_doc1 = tf_computation(doc1, bow[0])\n",
    "tf_doc2 = tf_computation(doc2,bow[1])\n",
    "\n",
    "dw_tf = pd.DataFrame([tf_doc1, tf_doc2])\n",
    "dw_tf\n",
    "#print(dw_tf)"
   ]
  },
  {
   "cell_type": "markdown",
   "metadata": {},
   "source": [
    "##### 5-idf computations\n",
    "idf = log(total of Docs/each words occurrence in Docs)"
   ]
  },
  {
   "cell_type": "code",
   "execution_count": 52,
   "metadata": {},
   "outputs": [],
   "source": [
    "def idf_computation(docs):\n",
    "    n = len(docs)\n",
    "    idf_dict = dict.fromkeys(docs[0].keys(),0)\n",
    "    for i in docs:\n",
    "        for w,val in i.items():\n",
    "            if val > 0:\n",
    "                idf_dict[w] += 1\n",
    "    for w,val in idf_dict.items():\n",
    "        idf_dict[w] = float(math.log(n/val))\n",
    "    #print(idf_dict)\n",
    "    return idf_dict\n",
    "idf_s = idf_computation([doc1,doc2])"
   ]
  },
  {
   "cell_type": "markdown",
   "metadata": {},
   "source": [
    "##### 6-tf-idf computations"
   ]
  },
  {
   "cell_type": "code",
   "execution_count": 53,
   "metadata": {},
   "outputs": [
    {
     "data": {
      "text/html": [
       "<div>\n",
       "<style scoped>\n",
       "    .dataframe tbody tr th:only-of-type {\n",
       "        vertical-align: middle;\n",
       "    }\n",
       "\n",
       "    .dataframe tbody tr th {\n",
       "        vertical-align: top;\n",
       "    }\n",
       "\n",
       "    .dataframe thead th {\n",
       "        text-align: right;\n",
       "    }\n",
       "</style>\n",
       "<table border=\"1\" class=\"dataframe\">\n",
       "  <thead>\n",
       "    <tr style=\"text-align: right;\">\n",
       "      <th></th>\n",
       "      <th>a</th>\n",
       "      <th>am</th>\n",
       "      <th>at</th>\n",
       "      <th>computer</th>\n",
       "      <th>engineering</th>\n",
       "      <th>guilan</th>\n",
       "      <th>i</th>\n",
       "      <th>language</th>\n",
       "      <th>natural</th>\n",
       "      <th>now</th>\n",
       "      <th>of</th>\n",
       "      <th>processing</th>\n",
       "      <th>right</th>\n",
       "      <th>student</th>\n",
       "      <th>studying</th>\n",
       "      <th>the</th>\n",
       "      <th>university</th>\n",
       "    </tr>\n",
       "  </thead>\n",
       "  <tbody>\n",
       "    <tr>\n",
       "      <th>0</th>\n",
       "      <td>0.057762</td>\n",
       "      <td>0.0</td>\n",
       "      <td>0.057762</td>\n",
       "      <td>0.057762</td>\n",
       "      <td>0.057762</td>\n",
       "      <td>0.057762</td>\n",
       "      <td>0.0</td>\n",
       "      <td>0.000000</td>\n",
       "      <td>0.000000</td>\n",
       "      <td>0.000000</td>\n",
       "      <td>0.115525</td>\n",
       "      <td>0.000000</td>\n",
       "      <td>0.000000</td>\n",
       "      <td>0.057762</td>\n",
       "      <td>0.000000</td>\n",
       "      <td>0.057762</td>\n",
       "      <td>0.057762</td>\n",
       "    </tr>\n",
       "    <tr>\n",
       "      <th>1</th>\n",
       "      <td>0.000000</td>\n",
       "      <td>0.0</td>\n",
       "      <td>0.000000</td>\n",
       "      <td>0.000000</td>\n",
       "      <td>0.000000</td>\n",
       "      <td>0.000000</td>\n",
       "      <td>0.0</td>\n",
       "      <td>0.086643</td>\n",
       "      <td>0.086643</td>\n",
       "      <td>0.086643</td>\n",
       "      <td>0.000000</td>\n",
       "      <td>0.086643</td>\n",
       "      <td>0.086643</td>\n",
       "      <td>0.000000</td>\n",
       "      <td>0.086643</td>\n",
       "      <td>0.000000</td>\n",
       "      <td>0.000000</td>\n",
       "    </tr>\n",
       "  </tbody>\n",
       "</table>\n",
       "</div>"
      ],
      "text/plain": [
       "          a   am        at  computer  engineering    guilan    i  language   natural       now        of  processing     right   student  studying       the  university\n",
       "0  0.057762  0.0  0.057762  0.057762     0.057762  0.057762  0.0  0.000000  0.000000  0.000000  0.115525    0.000000  0.000000  0.057762  0.000000  0.057762    0.057762\n",
       "1  0.000000  0.0  0.000000  0.000000     0.000000  0.000000  0.0  0.086643  0.086643  0.086643  0.000000    0.086643  0.086643  0.000000  0.086643  0.000000    0.000000"
      ]
     },
     "execution_count": 53,
     "metadata": {},
     "output_type": "execute_result"
    }
   ],
   "source": [
    "def tf_idf_computations(tf,idfs):\n",
    "    tf_idf = {}\n",
    "    for w,val in tf.items():\n",
    "        tf_idf[w] = val * idfs[w]\n",
    "    return tf_idf\n",
    "tf_idf_doc1 = tf_idf_computations(tf_doc1, idf_s)\n",
    "tf_idf_doc2 = tf_idf_computations(tf_doc2, idf_s)\n",
    "output = pd.DataFrame([tf_idf_doc1, tf_idf_doc2])\n",
    "output"
   ]
  },
  {
   "cell_type": "code",
   "execution_count": null,
   "metadata": {},
   "outputs": [],
   "source": []
  }
 ],
 "metadata": {
  "kernelspec": {
   "display_name": "Python 3",
   "language": "python",
   "name": "python3"
  },
  "language_info": {
   "codemirror_mode": {
    "name": "ipython",
    "version": 3
   },
   "file_extension": ".py",
   "mimetype": "text/x-python",
   "name": "python",
   "nbconvert_exporter": "python",
   "pygments_lexer": "ipython3",
   "version": "3.7.0"
  }
 },
 "nbformat": 4,
 "nbformat_minor": 2
}
